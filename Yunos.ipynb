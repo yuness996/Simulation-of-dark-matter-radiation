{
 "cells": [
  {
   "cell_type": "code",
   "execution_count": 1,
   "metadata": {},
   "outputs": [
    {
     "name": "stdout",
     "output_type": "stream",
     "text": [
      "Populating the interactive namespace from numpy and matplotlib\n"
     ]
    }
   ],
   "source": [
    "%pylab inline\n",
    "import astropy.cosmology as aco\n",
    "import astropy.units as au\n",
    "import astropy.coordinates as ac\n",
    "from scipy.interpolate import interp1d, RegularGridInterpolator\n",
    "import h5py as h5"
   ]
  },
  {
   "cell_type": "code",
   "execution_count": 2,
   "metadata": {},
   "outputs": [],
   "source": [
    "final_sel=np.load(\"selection_2mpp.npy\")\n",
    "\n",
    "density2 = None\n",
    "density_err = None\n",
    "\n",
    "if False:\n",
    "    chain_summary=np.load(\"/data/lavaux/stats.npz\")\n",
    "    density = chain_summary['d'][0]\n",
    "    density_err = chain_summary['d'][1]\n",
    "else:\n",
    "    with h5.File(\"./output_9840.h5\", mode=\"r\") as ff:\n",
    "        density = ff['dmsheet_density'][...]\n",
    "        #we save the useful information for us in an array\n",
    "        #density /= 1e-26\n",
    "        #Here we load the information(density contrast) at each coordinate in space in matrix density"
   ]
  },
  {
   "cell_type": "code",
   "execution_count": 3,
   "metadata": {},
   "outputs": [],
   "source": [
    "L=677.7 #Given the distribution length of density in each direction \n",
    "N=density.shape[0]\n",
    "\n",
    "corner=-338.85\n",
    "\n",
    "ix=(np.arange(N)+0.5)*L/N+corner\n",
    "x = ix[:,None,None].repeat(N,axis=1).repeat(N,axis=2)\n",
    "y = ix[None,:,None].repeat(N,axis=0).repeat(N,axis=2)\n",
    "z = ix[None,None,:].repeat(N,axis=0).repeat(N,axis=1)\n",
    "#we set each coordinate of the points in space in 3 matrices"
   ]
  },
  {
   "cell_type": "code",
   "execution_count": 4,
   "metadata": {},
   "outputs": [],
   "source": [
    "def integrateLOS(matrix, E):\n",
    "    matrix2 = np.zeros((8, 8, 128))\n",
    "    mat = np.zeros(128)\n",
    "    for i in range(0, 8):\n",
    "        for j in range(0, 8):\n",
    "            for r in range(0, 128):\n",
    "                r1 = r * 4 \n",
    "                t0 = matrix[i][j][r1]\n",
    "                t1 = matrix[i][j][r1+1]\n",
    "                t2 = matrix[i][j][r1+2]\n",
    "                t3 = matrix[i][j][r1+3]\n",
    "                #Y = t0* (E[r1+1]- E[r1])+ t1* (E[r1+2]- E[r1+1])+ t2* (E[r1+3]- E[r1+2])+ t3* (E[r1+4]- E[r1+3])\n",
    "                mat[r] = t0*(E[r1+1]- E[r1])+ t1*(E[r1+2]- E[r1+1])+ t2*(E[r1+3]- E[r1+2])+ t3*(E[r1+4]- E[r1+3])\n",
    "                #matrix2[i][j].append(D)\n",
    "            #mat.pop()\n",
    "            #mat.append(mat[126])\n",
    "            #mat1 = np.asarray(mat)\n",
    "            #np.append(matrix2, mat1, axis=2)\n",
    "            #print(mat1.shape)\n",
    "            #print(matrix2.shape)\n",
    "            #mat = matt\n",
    "            matrix2[i][j][:] =  mat\n",
    "            #mat.clear()\n",
    "            \n",
    "    return matrix2        \n",
    "#this function devides the distance into regions with different redshifts\n",
    "#then integrate the number of photons in each shell\n",
    "#the last problem faced that prevented from improving where the matrix"
   ]
  },
  {
   "cell_type": "code",
   "execution_count": 5,
   "metadata": {},
   "outputs": [],
   "source": [
    "def integrateLOS(matrix, E):\n",
    "    matrix2 = np.zeros((80, 80, 128))\n",
    "    mat = np.zeros(128)\n",
    "    for i in range(0, 80):\n",
    "        for j in range(0, 80):\n",
    "            for r in range(0, 128):\n",
    "                r1 = r * 4 \n",
    "                t0 = matrix[i][j][r1]\n",
    "                t1 = matrix[i][j][r1+1]\n",
    "                t2 = matrix[i][j][r1+2]\n",
    "                t3 = matrix[i][j][r1+3]\n",
    "                #Y = t0* (E[r1+1]- E[r1])+ t1* (E[r1+2]- E[r1+1])+ t2* (E[r1+3]- E[r1+2])+ t3* (E[r1+4]- E[r1+3])\n",
    "                mat[r] = t0*(E[r1+1]- E[r1])+ t1*(E[r1+2]- E[r1+1])+ t2*(E[r1+3]- E[r1+2])+ t3*(E[r1+4]- E[r1+3])\n",
    "                \n",
    "            matrix2[i][j][:] =  mat\n",
    "    return matrix2"
   ]
  },
  {
   "cell_type": "code",
   "execution_count": 6,
   "metadata": {},
   "outputs": [],
   "source": [
    "#matrix = np.ones((8, 8, 512))\n",
    "#E = np.linspace(1,300,513)\n",
    "#m2 = integrateLOS(matrix, E)\n",
    "#m3 = mat3d1d(matrix, 100)\n",
    "#print(m2)\n",
    "#test"
   ]
  },
  {
   "cell_type": "code",
   "execution_count": 6,
   "metadata": {},
   "outputs": [],
   "source": [
    "def rad(ms, sintheta, rap, decp):#ms in kev\n",
    "    #distp = distance * 512 / 300\n",
    "    #distp = distp // 4\n",
    "    dists1 = np.linspace(1,300,512) #Here I divide the distances form us as a grid\n",
    "    #dists1sp = np.array_split(dists1, 102) # then I divide the distances into regions for each redshift\n",
    "    from astropy.cosmology import WMAP9 as cosmo\n",
    "    H0 = (cosmo.H(0) * 1e5).value\n",
    "    #H0 = H0 *au.cm /au.Mpc /au.s\n",
    "    pi = math.pi\n",
    "    C = 2.9979e10 #* au.cm\n",
    "    width = 5.6e-22 * (sintheta)**2 *(ms)**5 #*1/au.s\n",
    "    A = width /(4 * pi * H0)\n",
    "    dists = dists1*au.Mpc #the constant multiplied by the needed variable to integrate on\n",
    "    E = [512]\n",
    "    dE = [512]\n",
    "    Nph = np.zeros((8, 8, 128))\n",
    "    x_l = ix[:]\n",
    "    y_l = ix[:]\n",
    "    z_l = ix[:]\n",
    "    dNph = np.zeros((8, 8, 512))\n",
    "    for i in range(0, 512):\n",
    "        E.append(1./(2*(H0* dists1[i] /C + 1)))\n",
    "        dE.append((H0/C)*(300/512)/(2*(H0* dists1[i] /C + 1)**2))\n",
    "        #E.append(E1)\n",
    "        #dE1.append(dE1)\n",
    "    #print(dE)\n",
    "    #Esp = np.array_split(E, 102)\n",
    "    #dEsp = np.array_split(dE, 102)\n",
    "    #E *= ms\n",
    "    #dE = E/1200\n",
    "    for ra1 in range(rap - 4, rap + 4):\n",
    "        \n",
    "        for dec1 in range (decp - 4,decp + 4):\n",
    "            ra2 = ra1 - rap + 4 \n",
    "            dec2 = dec1 - decp +4 #different directions changed by the for loop\n",
    "            \n",
    "            ra,dec=ra1*au.deg, dec1*au.deg\n",
    "            coords = ac.ICRS(ra=ra,dec=dec,distance=dists) \n",
    "            #change the coordinates of point alonge the line of sight from spherical to cartisian coordinate\n",
    "            xyz = coords.cartesian.xyz.value.transpose()\n",
    "            los_density = RegularGridInterpolator((x_l,y_l, z_l),density, method='linear', bounds_error=True, fill_value=nan)(xyz)\n",
    "            los_density += 1\n",
    "            los_density *= 1e-23 #* au.g / au.m**3\n",
    "            #the density of DM over the line of sight(LOS) after interpolating it with the coordinates of pointes along the LOS\n",
    "            #los_densitysp = np.array_split(los_density, 102)\n",
    "            for r in range(0, 512):\n",
    "                \n",
    "                dNph[ra2][dec2][r] = los_density[r] * math.sqrt(2 * E[r])**3 /math.sqrt(0.7*8 * E[r]**3 + 0.3 * ms**3)\n",
    "                #Nph[ra1][dec1][r] += dE[j] * dNph[j]\n",
    "                #using the formula mentioned previously in the paper\n",
    "    dNph *= A\n",
    "    Nph = integrateLOS(dNph, E)\n",
    "    #S = Nph[: ,: , 100]      \n",
    "    return Nph"
   ]
  },
  {
   "cell_type": "code",
   "execution_count": 8,
   "metadata": {},
   "outputs": [],
   "source": [
    "def rad(ms, sintheta, rap, decp):#ms in kev\n",
    "    #distp = distance * 512 / 300\n",
    "    #distp = distp // 4\n",
    "    dists1 = np.linspace(1,300,512) #Here I divide the distances form us as a grid\n",
    "    #dists1sp = np.array_split(dists1, 102) # then I divide the distances into regions for each redshift\n",
    "    from astropy.cosmology import WMAP9 as cosmo\n",
    "    H0 = (cosmo.H(0) * 1e5).value\n",
    "    #H0 = H0 *au.cm /au.Mpc /au.s\n",
    "    pi = math.pi\n",
    "    C = 2.9979e10 #* au.cm\n",
    "    width = 5.6e-22 * (sintheta)**2 *(ms)**5 #*1/au.s\n",
    "    A = width /(4 * pi * H0)\n",
    "    dists = dists1*au.Mpc #the constant multiplied by the needed variable to integrate on\n",
    "    E = [512]\n",
    "    dE = [512]\n",
    "    Nph = np.zeros((80, 80, 128))\n",
    "    x_l = ix[:]\n",
    "    y_l = ix[:]\n",
    "    z_l = ix[:]\n",
    "    dNph = np.zeros((80, 80, 512))\n",
    "    for i in range(0, 512):\n",
    "        E.append(1./(2*(H0* dists1[i] /C + 1)))\n",
    "        dE.append((H0/C)*(300/512)/(2*(H0* dists1[i] /C + 1)**2))\n",
    "        #E.append(E1)\n",
    "        #dE1.append(dE1)\n",
    "    #print(dE)\n",
    "    #Esp = np.array_split(E, 102)\n",
    "    #dEsp = np.array_split(dE, 102)\n",
    "    #E *= ms\n",
    "    #dE = E/1200\n",
    "    for ii in range(0, 80):\n",
    "        \n",
    "        for jj in range (0, 80):\n",
    "\n",
    "            ra1 = rap - 4 + 0.1*ii\n",
    "            dec1 = decp - 4 + 0.1*jj #different directions changed by the for loop\n",
    "            \n",
    "            ra,dec=ra1*au.deg, dec1*au.deg\n",
    "            coords = ac.ICRS(ra=ra,dec=dec,distance=dists) \n",
    "            #change the coordinates of point alonge the line of sight from spherical to cartisian coordinate\n",
    "            xyz = coords.cartesian.xyz.value.transpose()\n",
    "            los_density = RegularGridInterpolator((x_l,y_l, z_l),density, method='linear', bounds_error=True, fill_value=nan)(xyz)\n",
    "            los_density += 1\n",
    "            los_density *= 1e-23 #* au.g / au.m**3\n",
    "            #the density of DM over the line of sight(LOS) after interpolating it with the coordinates of pointes along the LOS\n",
    "            #los_densitysp = np.array_split(los_density, 102)\n",
    "            for r in range(0, 512):\n",
    "                \n",
    "                dNph[ii][jj][r] = los_density[r] * math.sqrt(2 * E[r])**3 /math.sqrt(0.7*8 * E[r]**3 + 0.3 * ms**3)\n",
    "                #Nph[ra1][dec1][r] += dE[j] * dNph[j]\n",
    "                #using the formula mentioned previously in the paper\n",
    "    dNph *= A\n",
    "    Nph = integrateLOS(dNph, E)\n",
    "    #S = Nph[: ,: , 100]      \n",
    "    return Nph"
   ]
  },
  {
   "cell_type": "code",
   "execution_count": 7,
   "metadata": {},
   "outputs": [
    {
     "ename": "IndexError",
     "evalue": "index 8 is out of bounds for axis 0 with size 8",
     "output_type": "error",
     "traceback": [
      "\u001b[1;31m---------------------------------------------------------------------------\u001b[0m",
      "\u001b[1;31mIndexError\u001b[0m                                Traceback (most recent call last)",
      "\u001b[1;32m<ipython-input-7-cbf32b1052ea>\u001b[0m in \u001b[0;36m<module>\u001b[1;34m\u001b[0m\n\u001b[1;32m----> 1\u001b[1;33m \u001b[0mA\u001b[0m \u001b[1;33m=\u001b[0m \u001b[0mrad\u001b[0m\u001b[1;33m(\u001b[0m\u001b[1;36m34\u001b[0m\u001b[1;33m,\u001b[0m \u001b[1;36m126\u001b[0m\u001b[1;33m,\u001b[0m \u001b[1;36m195\u001b[0m\u001b[1;33m,\u001b[0m \u001b[1;36m28\u001b[0m\u001b[1;33m)\u001b[0m\u001b[1;33m\u001b[0m\u001b[1;33m\u001b[0m\u001b[0m\n\u001b[0m\u001b[0;32m      2\u001b[0m \u001b[0mS\u001b[0m \u001b[1;33m=\u001b[0m \u001b[0mA\u001b[0m\u001b[1;33m[\u001b[0m\u001b[1;33m:\u001b[0m \u001b[1;33m,\u001b[0m\u001b[1;33m:\u001b[0m \u001b[1;33m,\u001b[0m \u001b[1;36m44\u001b[0m\u001b[1;33m]\u001b[0m\u001b[1;33m\u001b[0m\u001b[1;33m\u001b[0m\u001b[0m\n\u001b[0;32m      3\u001b[0m \u001b[1;31m#coma cluster\u001b[0m\u001b[1;33m\u001b[0m\u001b[1;33m\u001b[0m\u001b[1;33m\u001b[0m\u001b[0m\n",
      "\u001b[1;32m<ipython-input-6-f1ef8d10dde8>\u001b[0m in \u001b[0;36mrad\u001b[1;34m(ms, sintheta, rap, decp)\u001b[0m\n\u001b[0;32m     50\u001b[0m                 \u001b[1;31m#using the formula mentioned previously in the paper\u001b[0m\u001b[1;33m\u001b[0m\u001b[1;33m\u001b[0m\u001b[1;33m\u001b[0m\u001b[0m\n\u001b[0;32m     51\u001b[0m     \u001b[0mdNph\u001b[0m \u001b[1;33m*=\u001b[0m \u001b[0mA\u001b[0m\u001b[1;33m\u001b[0m\u001b[1;33m\u001b[0m\u001b[0m\n\u001b[1;32m---> 52\u001b[1;33m     \u001b[0mNph\u001b[0m \u001b[1;33m=\u001b[0m \u001b[0mintegrateLOS\u001b[0m\u001b[1;33m(\u001b[0m\u001b[0mdNph\u001b[0m\u001b[1;33m,\u001b[0m \u001b[0mE\u001b[0m\u001b[1;33m)\u001b[0m\u001b[1;33m\u001b[0m\u001b[1;33m\u001b[0m\u001b[0m\n\u001b[0m\u001b[0;32m     53\u001b[0m     \u001b[1;31m#S = Nph[: ,: , 100]\u001b[0m\u001b[1;33m\u001b[0m\u001b[1;33m\u001b[0m\u001b[1;33m\u001b[0m\u001b[0m\n\u001b[0;32m     54\u001b[0m     \u001b[1;32mreturn\u001b[0m \u001b[0mNph\u001b[0m\u001b[1;33m\u001b[0m\u001b[1;33m\u001b[0m\u001b[0m\n",
      "\u001b[1;32m<ipython-input-5-0bb19a263773>\u001b[0m in \u001b[0;36mintegrateLOS\u001b[1;34m(matrix, E)\u001b[0m\n\u001b[0;32m      6\u001b[0m             \u001b[1;32mfor\u001b[0m \u001b[0mr\u001b[0m \u001b[1;32min\u001b[0m \u001b[0mrange\u001b[0m\u001b[1;33m(\u001b[0m\u001b[1;36m0\u001b[0m\u001b[1;33m,\u001b[0m \u001b[1;36m128\u001b[0m\u001b[1;33m)\u001b[0m\u001b[1;33m:\u001b[0m\u001b[1;33m\u001b[0m\u001b[1;33m\u001b[0m\u001b[0m\n\u001b[0;32m      7\u001b[0m                 \u001b[0mr1\u001b[0m \u001b[1;33m=\u001b[0m \u001b[0mr\u001b[0m \u001b[1;33m*\u001b[0m \u001b[1;36m4\u001b[0m\u001b[1;33m\u001b[0m\u001b[1;33m\u001b[0m\u001b[0m\n\u001b[1;32m----> 8\u001b[1;33m                 \u001b[0mt0\u001b[0m \u001b[1;33m=\u001b[0m \u001b[0mmatrix\u001b[0m\u001b[1;33m[\u001b[0m\u001b[0mi\u001b[0m\u001b[1;33m]\u001b[0m\u001b[1;33m[\u001b[0m\u001b[0mj\u001b[0m\u001b[1;33m]\u001b[0m\u001b[1;33m[\u001b[0m\u001b[0mr1\u001b[0m\u001b[1;33m]\u001b[0m\u001b[1;33m\u001b[0m\u001b[1;33m\u001b[0m\u001b[0m\n\u001b[0m\u001b[0;32m      9\u001b[0m                 \u001b[0mt1\u001b[0m \u001b[1;33m=\u001b[0m \u001b[0mmatrix\u001b[0m\u001b[1;33m[\u001b[0m\u001b[0mi\u001b[0m\u001b[1;33m]\u001b[0m\u001b[1;33m[\u001b[0m\u001b[0mj\u001b[0m\u001b[1;33m]\u001b[0m\u001b[1;33m[\u001b[0m\u001b[0mr1\u001b[0m\u001b[1;33m+\u001b[0m\u001b[1;36m1\u001b[0m\u001b[1;33m]\u001b[0m\u001b[1;33m\u001b[0m\u001b[1;33m\u001b[0m\u001b[0m\n\u001b[0;32m     10\u001b[0m                 \u001b[0mt2\u001b[0m \u001b[1;33m=\u001b[0m \u001b[0mmatrix\u001b[0m\u001b[1;33m[\u001b[0m\u001b[0mi\u001b[0m\u001b[1;33m]\u001b[0m\u001b[1;33m[\u001b[0m\u001b[0mj\u001b[0m\u001b[1;33m]\u001b[0m\u001b[1;33m[\u001b[0m\u001b[0mr1\u001b[0m\u001b[1;33m+\u001b[0m\u001b[1;36m2\u001b[0m\u001b[1;33m]\u001b[0m\u001b[1;33m\u001b[0m\u001b[1;33m\u001b[0m\u001b[0m\n",
      "\u001b[1;31mIndexError\u001b[0m: index 8 is out of bounds for axis 0 with size 8"
     ]
    }
   ],
   "source": [
    "A = rad(34, 126, 195, 28)\n",
    "S = A[: ,: , 44]\n",
    "#coma cluster"
   ]
  },
  {
   "cell_type": "code",
   "execution_count": 10,
   "metadata": {},
   "outputs": [],
   "source": [
    "import matplotlib.pyplot as plt\n",
    "%matplotlib inline\n"
   ]
  },
  {
   "cell_type": "code",
   "execution_count": 11,
   "metadata": {},
   "outputs": [
    {
     "data": {
      "text/plain": [
       "<matplotlib.image.AxesImage at 0x24cb39d1188>"
      ]
     },
     "execution_count": 11,
     "metadata": {},
     "output_type": "execute_result"
    },
    {
     "data": {
      "image/png": "[encoded data removed]",
      "text/plain": [
       "<Figure size 432x288 with 1 Axes>"
      ]
     },
     "metadata": {
      "needs_background": "light"
     },
     "output_type": "display_data"
    }
   ],
   "source": [
    "plt.imshow(S)"
   ]
  },
  {
   "cell_type": "code",
   "execution_count": 13,
   "metadata": {},
   "outputs": [],
   "source": [
    "A = rad(34, 126, 195, 28)\n",
    "SS = A[: ,: , 28]\n",
    "#coma cluster"
   ]
  },
  {
   "cell_type": "code",
   "execution_count": 14,
   "metadata": {},
   "outputs": [],
   "source": [
    "import matplotlib.pyplot as plt\n",
    "%matplotlib inline\n"
   ]
  },
  {
   "cell_type": "code",
   "execution_count": 15,
   "metadata": {},
   "outputs": [
    {
     "data": {
      "text/plain": [
       "<matplotlib.image.AxesImage at 0x1b0f7547a88>"
      ]
     },
     "execution_count": 15,
     "metadata": {},
     "output_type": "execute_result"
    },
    {
     "data": {
      "image/png": "[encoded data removed]",
      "text/plain": [
       "<Figure size 432x288 with 1 Axes>"
      ]
     },
     "metadata": {
      "needs_background": "light"
     },
     "output_type": "display_data"
    }
   ],
   "source": [
    "plt.imshow(SS)"
   ]
  },
  {
   "cell_type": "code",
   "execution_count": 20,
   "metadata": {},
   "outputs": [],
   "source": [
    "#for i in range (1, 128):\n",
    " #   import matplotlib.pyplot as plt\n",
    "  #  %matplotlib inline\n",
    "   # S = A[: ,: , i]\n",
    "    #plt.imshow(S)\n",
    "    "
   ]
  },
  {
   "cell_type": "code",
   "execution_count": 16,
   "metadata": {},
   "outputs": [],
   "source": [
    "A1 = rad(34, 126, 187, 13)\n",
    "S1 = A1[: ,: , 9]\n",
    "#virgo cluster"
   ]
  },
  {
   "cell_type": "code",
   "execution_count": 17,
   "metadata": {},
   "outputs": [],
   "source": [
    "import matplotlib.pyplot as plt\n",
    "%matplotlib inline"
   ]
  },
  {
   "cell_type": "code",
   "execution_count": 18,
   "metadata": {},
   "outputs": [
    {
     "data": {
      "text/plain": [
       "<matplotlib.image.AxesImage at 0x1b0f75b7548>"
      ]
     },
     "execution_count": 18,
     "metadata": {},
     "output_type": "execute_result"
    },
    {
     "data": {
      "image/png": "[encoded data removed]",
      "text/plain": [
       "<Figure size 432x288 with 1 Axes>"
      ]
     },
     "metadata": {
      "needs_background": "light"
     },
     "output_type": "display_data"
    }
   ],
   "source": [
    "plt.imshow(S1)"
   ]
  },
  {
   "cell_type": "code",
   "execution_count": 21,
   "metadata": {},
   "outputs": [],
   "source": [
    "A2 = rad(34, 126, 192, 41)\n",
    "S2 = A2[: ,: , 22]\n",
    "#Centaurus cluster d="
   ]
  },
  {
   "cell_type": "code",
   "execution_count": 22,
   "metadata": {},
   "outputs": [],
   "source": [
    "import matplotlib.pyplot as plt\n",
    "%matplotlib inline"
   ]
  },
  {
   "cell_type": "code",
   "execution_count": 23,
   "metadata": {},
   "outputs": [
    {
     "data": {
      "text/plain": [
       "<matplotlib.image.AxesImage at 0x1b1bd18b1c8>"
      ]
     },
     "execution_count": 23,
     "metadata": {},
     "output_type": "execute_result"
    },
    {
     "data": {
      "image/png": "[encoded data removed]",
      "text/plain": [
       "<Figure size 432x288 with 1 Axes>"
      ]
     },
     "metadata": {
      "needs_background": "light"
     },
     "output_type": "display_data"
    }
   ],
   "source": [
    "plt.imshow(S2)"
   ]
  },
  {
   "cell_type": "code",
   "execution_count": 25,
   "metadata": {},
   "outputs": [
    {
     "data": {
      "text/plain": [
       "<matplotlib.image.AxesImage at 0x1b1bcbc0b88>"
      ]
     },
     "execution_count": 25,
     "metadata": {},
     "output_type": "execute_result"
    },
    {
     "data": {
      "image/png": "[encoded data removed]",
      "text/plain": [
       "<Figure size 432x288 with 1 Axes>"
      ]
     },
     "metadata": {
      "needs_background": "light"
     },
     "output_type": "display_data"
    }
   ],
   "source": [
    "Aa = rad(34, 126, 75, 5)\n",
    "Ss = A[: ,: , 0]\n",
    "#coma cluster\n",
    "import matplotlib.pyplot as plt\n",
    "%matplotlib inline\n",
    "plt.imshow(Ss)"
   ]
  },
  {
   "cell_type": "code",
   "execution_count": null,
   "metadata": {},
   "outputs": [],
   "source": []
  }
 ],
 "metadata": {
  "kernelspec": {
   "display_name": "Python 3",
   "language": "python",
   "name": "python3"
  },
  "language_info": {
   "codemirror_mode": {
    "name": "ipython",
    "version": 3
   },
   "file_extension": ".py",
   "mimetype": "text/x-python",
   "name": "python",
   "nbconvert_exporter": "python",
   "pygments_lexer": "ipython3",
   "version": "3.7.4"
  }
 },
 "nbformat": 4,
 "nbformat_minor": 2
}
